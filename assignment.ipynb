{
 "cells": [
  {
   "cell_type": "markdown",
   "id": "1969ded9",
   "metadata": {},
   "source": [
    "# Python Basics Questions \n"
   ]
  },
  {
   "cell_type": "markdown",
   "id": "5418883b",
   "metadata": {},
   "source": [
    "# 1.What is Python, and why is it popular ?\n",
    "Answer:- Python is a high-level programming language. It was created by Guido van Rossum and released in 1991\n",
    "\n",
    "# Python popularity:-\n",
    "Easy to Learn and Use:\n",
    "Python has simple words and clear rules. It feels like writing English.\n",
    "\n",
    "Used in Many Areas:\n",
    "You can use Python for websites, data science, machine learning, games, automation, and more.\n",
    "\n",
    "Big Community:\n",
    "Many people use Python, so it's easy to find help, guides, and libraries.\n",
    "\n",
    "Lots of Libraries:\n",
    "Python has ready-made tools (called libraries) for almost everything—like maths, AI, web apps, etc.\n",
    "\n",
    "Works Everywhere:\n",
    "Python runs on Windows, Mac, and Linux.\n",
    "\n",
    "Used by Big Companies:\n",
    "Google, YouTube, Instagram, NASA, and Netflix use Python in their work."
   ]
  },
  {
   "cell_type": "markdown",
   "id": "d5790fff",
   "metadata": {},
   "source": [
    "# 2. What is an interpreter in Python \n",
    "Answer:-An interpreter in Python is a special program that reads and runs Python code line by line.\n",
    "\n",
    "# How it works:\n",
    "You write Python code in a .py file.\n",
    "\n",
    "The Python interpreter reads the code one line at a time.\n",
    "\n",
    "It converts it into instructions the computer can understand.\n",
    "\n",
    "Then, it executes (runs) those instructions.\n",
    "\n",
    "# Why is it useful:\n",
    "It makes debugging easier because you know which line caused the error.\n",
    "\n",
    "You can test code quickly without compiling the whole program.\n",
    "\n",
    "Example:\n",
    "If you write print(\"Hello\"), the interpreter reads it and shows the output immediately."
   ]
  },
  {
   "cell_type": "markdown",
   "id": "82eb7b96",
   "metadata": {},
   "source": [
    "# 3. What are pre-defined keywords in Python \n",
    "Answer:-Pre-defined keywords in Python are special words that have fixed meanings. You cannot use them as names for variables, functions, or anything else.\n",
    "\n",
    "# Example:\n",
    "Some common Python keywords are:\n",
    "\n",
    "if – for conditions\n",
    "\n",
    "else – for alternate condition\n",
    "\n",
    "while – for loops\n",
    "\n",
    "for – another way to loop\n",
    "\n",
    "def – to define a function\n",
    "\n",
    "class – to define a class\n",
    "\n",
    "True, False – boolean values\n",
    "\n",
    "None – means nothing or empty\n",
    "\n",
    "# Key Points:\n",
    "Python has reserved these words.\n",
    "\n",
    "You can’t use them for anything else.\n",
    "\n",
    "They help Python understand the structure of your code."
   ]
  },
  {
   "cell_type": "markdown",
   "id": "5e67485b",
   "metadata": {},
   "source": [
    "# 4. Can keywords be used as variable names \n",
    "Answer:-No, keywords cannot be used as variable names in Python.Because keywords have special meaning in Python. If you use them as variable names, Python will get confused and show an error."
   ]
  },
  {
   "cell_type": "markdown",
   "id": "75e2bbc7",
   "metadata": {},
   "source": [
    "# 5.What is mutability in Python \n",
    "Answer:-Mutability means whether a value can be changed after it is created.\n",
    "\n",
    "# In Python:\n",
    "If an object can be changed, it is called mutable.\n",
    "\n",
    "If an object cannot be changed, it is called immutable.\n",
    "\n",
    "# Mutable objects (changeable):\n",
    "list\n",
    "\n",
    "dict (dictionary)\n",
    "\n",
    "set\n",
    "\n",
    "# Immutable objects (unchangeable):\n",
    "int\n",
    "\n",
    "float\n",
    "\n",
    "str (string)\n",
    "\n",
    "tuple\n",
    "\n",
    "Example:"
   ]
  },
  {
   "cell_type": "markdown",
   "id": "d8b3ecf6",
   "metadata": {},
   "source": [
    "# 6. Why are lists mutable, but tuples are immutable \n",
    "Answer:-'''Lists are mutable because ,Lists are designed to store changing data.\n",
    "You can add, remove, or change elements in a list after it is created.\n",
    "# Tuples are immutable because:\n",
    "Tuples are made for fixed, unchangeable data.\n",
    "\n",
    "Once a tuple is created, you cannot add, remove, or change any item in it.\n",
    "# Why did Python design it this way?\n",
    "Lists are used when you need flexibility.\n",
    "\n",
    "Tuples are used when you want to protect data from being changed by mistake.\n",
    "\n",
    "Tuples are also faster and use less memory, which is helpful in big programs."
   ]
  },
  {
   "cell_type": "markdown",
   "id": "68857133",
   "metadata": {},
   "source": [
    "# 7.What is the difference between “==” and “is” operators in Python\n",
    "Answer:- '==' -> It checks whether two variables have the same value.\n"
   ]
  },
  {
   "cell_type": "code",
   "execution_count": 2,
   "id": "1a7a28be",
   "metadata": {},
   "outputs": [
    {
     "name": "stdout",
     "output_type": "stream",
     "text": [
      "True\n",
      "True\n"
     ]
    }
   ],
   "source": [
    "# Example 1:\n",
    "a = [1, 2, 3]\n",
    "b = [1, 2, 3]\n",
    "print(a == b)  \n",
    "#'is' checks identity:-It checks whether both variables point to the same memory location (same object).\n",
    "# Example 2:\n",
    "c = a\n",
    "print(c is a)   #True (same object)\n"
   ]
  },
  {
   "cell_type": "markdown",
   "id": "d4164e39",
   "metadata": {},
   "source": [
    "# 8.What are logical operators in Python\n",
    "Answer:-Logical operators are used to combine multiple conditions and return True or False based on logic.\n",
    "\n",
    "# Python has three main logical operators:\n",
    "1. and – All conditions must be True\n",
    "Returns True only if both sides are True.\n",
    "2. or – At least one condition must be True\n",
    "Returns True if any one side is True.\n",
    "3. not – Reverses the result\n",
    "Turns True into False, and False into True."
   ]
  },
  {
   "cell_type": "markdown",
   "id": "50453ace",
   "metadata": {},
   "source": [
    "# 9. What is type casting in Python \n",
    "Answer:-Type casting means converting one data type into another.\n",
    "\n",
    "#  Why use it?\n",
    "Sometimes you need to change data types to match the operation or use data in a different way.\n",
    "\n",
    "# Common  functions:\n",
    "Function\tConverts to\t        Example\n",
    "int()\t    Integer\t            int(\"5\") → 5\n",
    "float()\t    Floating point\t    float(\"3.14\") → 3.14\n",
    "str()\t    String\t            str(100) → \"100\"\n",
    "list()\t    List\t           list(\"abc\") → ['a','b','c']"
   ]
  },
  {
   "cell_type": "markdown",
   "id": "db2820df",
   "metadata": {},
   "source": [
    "# 10.What is the difference between implicit and explicit type casting \n",
    "Answer:-Type casting = converting one data type into another.\n",
    "\n",
    "There are two types of type casting:\n",
    "\n",
    "# 1. Implicit Type Casting (Done by Python automatically)\n",
    "Python automatically converts one type to another when needed.\n",
    "No need to write any casting code.\n",
    "\n",
    "# 2. Explicit Type Casting (Done by the programmer)\n",
    "You manually convert one type to another using functions like int(), float(), str(), etc."
   ]
  },
  {
   "cell_type": "markdown",
   "id": "41843c9b",
   "metadata": {},
   "source": [
    "# 11.What is the purpose of conditional statements in Python \n",
    "Answer:-Conditional statements are used to make decisions in a Python program.\n",
    "\n",
    "They help the program choose what to do based on a condition (True or False).\n",
    "\n",
    "# Purpose:\n",
    "To control the flow of the program.\n",
    "\n",
    "To perform different actions based on different conditions.\n",
    "\n",
    "# Common conditional statements:\n",
    "if – runs a block if condition is True\n",
    "\n",
    "elif – checks another condition if the first is False\n",
    "\n",
    "else – runs if all above conditions are False\n",
    "\n"
   ]
  },
  {
   "cell_type": "code",
   "execution_count": 3,
   "id": "9f3d9deb",
   "metadata": {},
   "outputs": [
    {
     "name": "stdout",
     "output_type": "stream",
     "text": [
      "You can vote.\n"
     ]
    }
   ],
   "source": [
    "# Exampleof conditional statements \n",
    "age = 18\n",
    "\n",
    "if age >= 18:\n",
    "    print(\"You can vote.\")\n",
    "else:\n",
    "    print(\"You cannot vote.\")\n",
    "\n",
    "# output is :-You can vote."
   ]
  },
  {
   "cell_type": "markdown",
   "id": "7df1c7dd",
   "metadata": {},
   "source": [
    "# 12.How does the elif statement work\n",
    "Answer:-The elif statement means \"else if\". It is used to check multiple conditions one by one.\n",
    "\n",
    "# Purpose:\n",
    "It helps you test more than two choices.\n",
    "\n",
    "Comes after if and before else.\n",
    "# Syntax: \n",
    "if condition1:\n",
    "    # runs if condition1 is True\n",
    "elif condition2:\n",
    "    # runs if condition2 is True\n",
    "elif condition3:\n",
    "    # runs if condition3 is True\n",
    "else:\n",
    "    # runs if none are True\n"
   ]
  },
  {
   "cell_type": "code",
   "execution_count": 4,
   "id": "a0bde5b3",
   "metadata": {},
   "outputs": [
    {
     "name": "stdout",
     "output_type": "stream",
     "text": [
      "Grade: C\n"
     ]
    }
   ],
   "source": [
    "marks = 75\n",
    "\n",
    "if marks >= 90:\n",
    "    print(\"Grade: A\")\n",
    "elif marks >= 80:\n",
    "    print(\"Grade: B\")\n",
    "elif marks >= 70:\n",
    "    print(\"Grade: C\")\n",
    "else:\n",
    "    print(\"Grade: D\")\n"
   ]
  },
  {
   "cell_type": "markdown",
   "id": "2ae9d68b",
   "metadata": {},
   "source": [
    "# 13.What is the difference between for and while loops\n",
    "Answer:-Both for and while loops are used to repeat code, but they are used in different situations.\n",
    "\n",
    "# for loop :–\n",
    " When you know how many times to repeat\n",
    "Used to loop over a sequence (like list, range, string).\n",
    "\n",
    "It stops automatically after the last item.\n",
    " # while loop :–\n",
    "  When you don’t know how many times, but have a condition\n",
    "Repeats as long as the condition is True.\n",
    "\n",
    "You must manually update the condition, or it may loop forever."
   ]
  },
  {
   "cell_type": "code",
   "execution_count": 7,
   "id": "3bb3d92b",
   "metadata": {},
   "outputs": [
    {
     "name": "stdout",
     "output_type": "stream",
     "text": [
      "0\n",
      "1\n",
      "2\n",
      "3\n",
      "4\n",
      "         \n",
      "0\n",
      "1\n",
      "2\n",
      "3\n",
      "4\n"
     ]
    }
   ],
   "source": [
    "# for loop Example:\n",
    "for i in range(5):\n",
    "    print(i)\n",
    "# print funtion used to brak between for and while \n",
    "print(\"         \")\n",
    "# while loop Example:\n",
    "\n",
    "i = 0\n",
    "while i < 5:\n",
    "    print(i)\n",
    "    i += 1\n"
   ]
  },
  {
   "cell_type": "markdown",
   "id": "4df6d5d8",
   "metadata": {},
   "source": [
    "# 14.Describe a scenario where a while loop is more suitable than a for loop\n",
    "Answer:-A while loop is better when you don’t know in advance how many times the loop will run — you just know the condition to stop.\n",
    "\n",
    "# Scenario: User Login System\n",
    "Let’s say you’re writing a program that asks the user to enter the correct password. You don’t know how many tries the user will take — so a while loop is perfect here.\n",
    "# Use a while loop when:\n",
    "\n",
    "You don’t know how many times it will repeat\n",
    "\n",
    "You want to run code until a condition becomes false\n",
    "\n",
    "# Example:\n",
    "password = \"\"\n",
    "\n",
    "while password != \"vibhu123\":\n",
    "    password = input(\"Enter password: \")\n",
    "\n",
    "print(\"Access granted!\")\n",
    "\n",
    "# This loop will run until the correct password is entered.\n",
    " # A for loop wouldn’t work well here because we don’t know how many tries are needed.'''"
   ]
  },
  {
   "cell_type": "markdown",
   "id": "e5270d97",
   "metadata": {},
   "source": [
    "# PARACTICAL QUESTIONS "
   ]
  },
  {
   "cell_type": "code",
   "execution_count": 9,
   "id": "6dc6ae3f",
   "metadata": {},
   "outputs": [
    {
     "name": "stdout",
     "output_type": "stream",
     "text": [
      "Hello, World!\n"
     ]
    }
   ],
   "source": [
    "#1. Write a Python program to print \"Hello, World!\n",
    "# CODE:-\n",
    "print(\"Hello, World!\")\n"
   ]
  },
  {
   "cell_type": "code",
   "execution_count": 10,
   "id": "7add2082",
   "metadata": {},
   "outputs": [
    {
     "name": "stdout",
     "output_type": "stream",
     "text": [
      "My name is VAIBHAV SHARMA\n",
      "I am 19 years old\n"
     ]
    }
   ],
   "source": [
    "#2.Write a Python program that displays your name and age\n",
    "# CODE:-\n",
    "name = \"VAIBHAV SHARMA\"\n",
    "age = 19\n",
    "\n",
    "print(\"My name is\", name)\n",
    "print(\"I am\", age, \"years old\")\n"
   ]
  },
  {
   "cell_type": "code",
   "execution_count": 17,
   "id": "9beff329",
   "metadata": {},
   "outputs": [
    {
     "name": "stdout",
     "output_type": "stream",
     "text": [
      "List of all Python keywords:\n",
      "['False', 'None', 'True', 'and', 'as', 'assert', 'async', 'await', 'break', 'class', 'continue', 'def', 'del', 'elif', 'else', 'except', 'finally', 'for', 'from', 'global', 'if', 'import', 'in', 'is', 'lambda', 'nonlocal', 'not', 'or', 'pass', 'raise', 'return', 'try', 'while', 'with', 'yield']\n"
     ]
    }
   ],
   "source": [
    "# 3. Write code to print all the pre-defined keywords in Python using the keyword library\n",
    "#CODE:-\n",
    "import keyword\n",
    "\n",
    "print(\"List of all Python keywords:\")\n",
    "print(keyword.kwlist)\n",
    "\n"
   ]
  },
  {
   "cell_type": "code",
   "execution_count": 32,
   "id": "50e3782b",
   "metadata": {},
   "outputs": [
    {
     "name": "stdout",
     "output_type": "stream",
     "text": [
      " 'VAIBHAV' is NOT a Python keyword.\n"
     ]
    }
   ],
   "source": [
    "# 4.Write a program that checks if a given word is a Python keyword.\n",
    "#CODE:-\n",
    "import keyword\n",
    "\n",
    "word = input(\"Enter a word: \")\n",
    "\n",
    "if keyword.iskeyword(word):\n",
    "    print(f\" '{word}' is a Python keyword.\")\n",
    "else:\n",
    "    print(f\" '{word}' is NOT a Python keyword.\")\n",
    "\n"
   ]
  },
  {
   "cell_type": "code",
   "execution_count": 20,
   "id": "e007b070",
   "metadata": {},
   "outputs": [
    {
     "name": "stdout",
     "output_type": "stream",
     "text": [
      "Original List: [10, 20, 30]\n",
      "Modified List: [10, 200, 30]\n",
      "Original Tuple: (10, 20, 30)\n"
     ]
    },
    {
     "ename": "TypeError",
     "evalue": "'tuple' object does not support item assignment",
     "output_type": "error",
     "traceback": [
      "\u001b[31m---------------------------------------------------------------------------\u001b[39m",
      "\u001b[31mTypeError\u001b[39m                                 Traceback (most recent call last)",
      "\u001b[36mCell\u001b[39m\u001b[36m \u001b[39m\u001b[32mIn[20]\u001b[39m\u001b[32m, line 17\u001b[39m\n\u001b[32m     13\u001b[39m \u001b[38;5;28mprint\u001b[39m(\u001b[33m\"\u001b[39m\u001b[33mOriginal Tuple:\u001b[39m\u001b[33m\"\u001b[39m, my_tuple)\n\u001b[32m     15\u001b[39m \u001b[38;5;66;03m# Trying to change an element in the tuple\u001b[39;00m\n\u001b[32m     16\u001b[39m \u001b[38;5;66;03m# This will cause an error\u001b[39;00m\n\u001b[32m---> \u001b[39m\u001b[32m17\u001b[39m \u001b[43mmy_tuple\u001b[49m\u001b[43m[\u001b[49m\u001b[32;43m1\u001b[39;49m\u001b[43m]\u001b[49m = \u001b[32m200\u001b[39m   \u001b[38;5;66;03m#  This line will give a TypeError\u001b[39;00m\n",
      "\u001b[31mTypeError\u001b[39m: 'tuple' object does not support item assignment"
     ]
    }
   ],
   "source": [
    "#5.Create a list and tuple in Python, and demonstrate how attempting to change an element works differently for each\n",
    "#CODE:-\n",
    "# Creating a list\n",
    "my_list = [10, 20, 30]\n",
    "print(\"Original List:\", my_list)\n",
    "\n",
    "# Changing an element in the list\n",
    "my_list[1] = 200\n",
    "print(\"Modified List:\", my_list)\n",
    "\n",
    "# Creating a tuple\n",
    "my_tuple = (10, 20, 30)\n",
    "print(\"Original Tuple:\", my_tuple)\n",
    "\n",
    "# Trying to change an element in the tuple\n",
    "# This will cause an error\n",
    "my_tuple[1] = 200   #  This line will give a TypeError\n"
   ]
  },
  {
   "cell_type": "code",
   "execution_count": null,
   "id": "4b1f0fb1",
   "metadata": {},
   "outputs": [
    {
     "name": "stdout",
     "output_type": "stream",
     "text": [
      "Inside function:\n",
      "num = 15\n",
      "num_list = [1, 2, 3, 100]\n",
      "\n",
      "Outside function:\n",
      "a = 5\n",
      "b = [1, 2, 3, 100]\n"
     ]
    }
   ],
   "source": [
    "#6. Write a function to demonstrate the behavior of mutable and immutable arguments.\n",
    "#CODE:-\n",
    "def modify_values(num, num_list):\n",
    "    num += 10               # Tries to change the integer\n",
    "    num_list.append(100)    # Modifies the list\n",
    "\n",
    "    print(\"Inside function:\")\n",
    "    print(\"num =\", num)\n",
    "    print(\"num_list =\", num_list)\n",
    "\n",
    "# Original values\n",
    "a = 5\n",
    "b = [1, 2, 3]\n",
    "\n",
    "modify_values(a, b)\n",
    "\n",
    "print(\"\\n Outside function:\")\n",
    "print(\"a =\", a)             # Integer remains unchanged\n",
    "print(\"b =\", b)             # List is modified\n"
   ]
  },
  {
   "cell_type": "code",
   "execution_count": 22,
   "id": "ba442f12",
   "metadata": {},
   "outputs": [
    {
     "name": "stdout",
     "output_type": "stream",
     "text": [
      "\n",
      "--- Arithmetic Operations ---\n",
      "Addition:        16.0\n",
      "Subtraction:     4.0\n",
      "Multiplication:  60.0\n",
      "Division:        1.6666666666666667\n"
     ]
    }
   ],
   "source": [
    "# 7.Write a program that performs basic arithmetic operations on two user-input numbers.\n",
    "#CODE:-\n",
    "# Taking user input\n",
    "num1 = float(input(\"Enter first number: \"))\n",
    "num2 = float(input(\"Enter second number: \"))\n",
    "\n",
    "# Performing operations\n",
    "print(\"\\n--- Arithmetic Operations ---\")\n",
    "print(\"Addition:       \", num1 + num2)\n",
    "print(\"Subtraction:    \", num1 - num2)\n",
    "print(\"Multiplication: \", num1 * num2)\n",
    "print(\"Division:       \", num1 / num2 if num2 != 0 else \"Cannot divide by zero\")\n"
   ]
  },
  {
   "cell_type": "code",
   "execution_count": 23,
   "id": "dd744efc",
   "metadata": {},
   "outputs": [
    {
     "name": "stdout",
     "output_type": "stream",
     "text": [
      "\n",
      "--- Logical Operators ---\n",
      "Both numbers are positive (AND condition is True)\n",
      "At least one number is positive (OR condition is True)\n",
      "Not(a > b): False\n"
     ]
    }
   ],
   "source": [
    "# 8. Write a program to demonstrate the use of logical operators\n",
    "#CODE:-\n",
    "# Taking input from user\n",
    "a = int(input(\"Enter first number: \"))\n",
    "b = int(input(\"Enter second number: \"))\n",
    "\n",
    "print(\"\\n--- Logical Operators ---\")\n",
    "\n",
    "# Using 'and' operator\n",
    "if a > 0 and b > 0:\n",
    "    print(\"Both numbers are positive (AND condition is True)\")\n",
    "else:\n",
    "    print(\"Both numbers are not positive\")\n",
    "\n",
    "# Using 'or' operator\n",
    "if a > 0 or b > 0:\n",
    "    print(\"At least one number is positive (OR condition is True)\")\n",
    "else:\n",
    "    print(\"Neither number is positive\")\n",
    "\n",
    "# Using 'not' operator\n",
    "print(\"Not(a > b):\", not(a > b))\n"
   ]
  },
  {
   "cell_type": "code",
   "execution_count": 24,
   "id": "2a321332",
   "metadata": {},
   "outputs": [
    {
     "name": "stdout",
     "output_type": "stream",
     "text": [
      "Integer: 50\n",
      "Float: 50.0\n",
      "Boolean: True\n"
     ]
    }
   ],
   "source": [
    "#9.Write a Python program to convert user input from string to integer, float, and boolean types. \n",
    "#CODE:-\n",
    "# Taking input as string\n",
    "user_input = input(\"Enter a value: \")\n",
    "\n",
    "# Converting to integer\n",
    "try:\n",
    "    int_value = int(user_input)\n",
    "    print(\"Integer:\", int_value)\n",
    "except ValueError:\n",
    "    print(\" Cannot convert to Integer\")\n",
    "\n",
    "# Converting to float\n",
    "try:\n",
    "    float_value = float(user_input)\n",
    "    print(\"Float:\", float_value)\n",
    "except ValueError:\n",
    "    print(\" Cannot convert to Float\")\n",
    "\n",
    "# Converting to boolean\n",
    "bool_value = bool(user_input)\n",
    "print(\"Boolean:\", bool_value)\n"
   ]
  },
  {
   "cell_type": "code",
   "execution_count": 25,
   "id": "c3163b23",
   "metadata": {},
   "outputs": [
    {
     "name": "stdout",
     "output_type": "stream",
     "text": [
      "Original (string) list:  ['10', '20', '30', '40']\n",
      "Converted to integers:   [10, 20, 30, 40]\n",
      "Converted to floats:     [10.0, 20.0, 30.0, 40.0]\n",
      "Converted to booleans:   [True, True, True, True]\n"
     ]
    }
   ],
   "source": [
    "# 10. Write code to demonstrate type casting with list elements.\n",
    "# CODE:-\n",
    "# Original list of strings (user-like input)\n",
    "str_list = [\"10\", \"20\", \"30\", \"40\"]\n",
    "\n",
    "# Convert each element to integer using a loop\n",
    "int_list = []\n",
    "for item in str_list:\n",
    "    int_list.append(int(item))\n",
    "\n",
    "# Convert each element to float\n",
    "float_list = []\n",
    "for item in str_list:\n",
    "    float_list.append(float(item))\n",
    "\n",
    "# Convert each element to boolean\n",
    "bool_list = []\n",
    "for item in str_list:\n",
    "    bool_list.append(bool(item))\n",
    "\n",
    "# Printing results\n",
    "print(\"Original (string) list: \", str_list)\n",
    "print(\"Converted to integers:  \", int_list)\n",
    "print(\"Converted to floats:    \", float_list)\n",
    "print(\"Converted to booleans:  \", bool_list)\n"
   ]
  },
  {
   "cell_type": "code",
   "execution_count": 26,
   "id": "ab7ce567",
   "metadata": {},
   "outputs": [
    {
     "name": "stdout",
     "output_type": "stream",
     "text": [
      "The number is Positive.\n"
     ]
    }
   ],
   "source": [
    "# 11.  Write a program that checks if a number is positive, negative, or zero.\n",
    "#CODE:-\n",
    "# Taking input from the user\n",
    "num = float(input(\"Enter a number: \"))\n",
    "\n",
    "# Checking the number\n",
    "if num > 0:\n",
    "    print(\"The number is Positive.\")\n",
    "elif num < 0:\n",
    "    print(\"The number is Negative.\")\n",
    "else:\n",
    "    print(\"The number is Zero.\")\n",
    "\n"
   ]
  },
  {
   "cell_type": "code",
   "execution_count": 27,
   "id": "e4877060",
   "metadata": {},
   "outputs": [
    {
     "name": "stdout",
     "output_type": "stream",
     "text": [
      "1\n",
      "2\n",
      "3\n",
      "4\n",
      "5\n",
      "6\n",
      "7\n",
      "8\n",
      "9\n",
      "10\n"
     ]
    }
   ],
   "source": [
    "# 12.Write a for loop to print numbers from 1 to 10.\n",
    "# CODE:-\n",
    "for i in range(1, 11):\n",
    "    print(i)\n"
   ]
  },
  {
   "cell_type": "code",
   "execution_count": 28,
   "id": "bf1b96d6",
   "metadata": {},
   "outputs": [
    {
     "name": "stdout",
     "output_type": "stream",
     "text": [
      "Sum of even numbers from 1 to 50 is: 650\n"
     ]
    }
   ],
   "source": [
    "#13. Write a Python program to find the sum of all even numbers between 1 and 50.\n",
    "#CODE:-\n",
    "sum_even = 0\n",
    "\n",
    "for i in range(1, 51):\n",
    "    if i % 2 == 0:\n",
    "        sum_even += i\n",
    "\n",
    "print(\"Sum of even numbers from 1 to 50 is:\", sum_even)\n"
   ]
  },
  {
   "cell_type": "code",
   "execution_count": 29,
   "id": "8cb3b73c",
   "metadata": {},
   "outputs": [
    {
     "name": "stdout",
     "output_type": "stream",
     "text": [
      "Reversed string: UHBIV\n"
     ]
    }
   ],
   "source": [
    "# 14. Write a program to reverse a string using a while loop.\n",
    "#CODE:-\n",
    "# Taking input from the user\n",
    "text = input(\"Enter a string: \")\n",
    "\n",
    "# Initialize index to last character\n",
    "index = len(text) - 1\n",
    "reversed_text = \"\"\n",
    "\n",
    "# While loop to reverse the string\n",
    "while index >= 0:\n",
    "    reversed_text += text[index]\n",
    "    index -= 1\n",
    "\n",
    "# Print the reversed string\n",
    "print(\"Reversed string:\", reversed_text)\n"
   ]
  },
  {
   "cell_type": "code",
   "execution_count": 31,
   "id": "0a3d9eef",
   "metadata": {},
   "outputs": [
    {
     "name": "stdout",
     "output_type": "stream",
     "text": [
      "The factorial of 5 is: 120\n"
     ]
    }
   ],
   "source": [
    "# 15. Write a Python program to calculate the factorial of a number provided by the user using a while loop\n",
    "#CODE:-\n",
    "# Take input from user\n",
    "num = int(input(\"Enter a number: \"))\n",
    "\n",
    "# Initialize result and counter\n",
    "factorial = 1\n",
    "i = 1\n",
    "\n",
    "# Calculate factorial using while loop\n",
    "while i <= num:\n",
    "    factorial *= i\n",
    "    i += 1\n",
    "\n",
    "# Print the result\n",
    "print(f\"The factorial of {num} is: {factorial}\")\n"
   ]
  }
 ],
 "metadata": {
  "kernelspec": {
   "display_name": "base",
   "language": "python",
   "name": "python3"
  },
  "language_info": {
   "codemirror_mode": {
    "name": "ipython",
    "version": 3
   },
   "file_extension": ".py",
   "mimetype": "text/x-python",
   "name": "python",
   "nbconvert_exporter": "python",
   "pygments_lexer": "ipython3",
   "version": "3.13.5"
  }
 },
 "nbformat": 4,
 "nbformat_minor": 5
}
